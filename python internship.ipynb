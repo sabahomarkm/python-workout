{
 "cells": [
  {
   "cell_type": "markdown",
   "metadata": {},
   "source": [
    "# Question : 'a' is an array where, a[n] > a[n-1]. Given a number P, find the index of P in 'a', if 'a' doesn't have P find the index where a can be inserted satisfying the array condition of a[n] > a[n-1] ?\n",
    "\n",
    "Example : a = [1,2,4,5,6]\n",
    "when P = 4, the resulting index is 2.\n",
    "when P = 7, the resulting index is 5 as that's the only possible place to insert P which satisfies the array condition.\n",
    "The objective is to write a python function or a class that takes 2 inputs, 'a' and 'P', and returns the index."
   ]
  },
  {
   "cell_type": "code",
   "execution_count": 26,
   "metadata": {},
   "outputs": [
    {
     "name": "stdout",
     "output_type": "stream",
     "text": [
      "The index of 2 is 1\n",
      "The Elment is not in the list so it is added as a new element to the position of :2\n"
     ]
    }
   ],
   "source": [
    "def print_index(a,number):\n",
    "    for element in a:\n",
    "        if number  in a:\n",
    "            ind=a.index(number)\n",
    "            print(f\"The index of {number} is {ind}\")\n",
    "            break;\n",
    "        else:\n",
    "            a.append(number)\n",
    "            a.sort()\n",
    "            k=a.index(number)\n",
    "            print(\"The Elment is not in the list so it is added as a new element to the position of :{}\".format(k))\n",
    "            break;\n",
    "            \n",
    "lst1=[1,2,4,5]        \n",
    "c1=print_index(lst1,2)\n",
    "c2=print_index(lst1,3)"
   ]
  }
 ],
 "metadata": {
  "kernelspec": {
   "display_name": "Python 3",
   "language": "python",
   "name": "python3"
  },
  "language_info": {
   "codemirror_mode": {
    "name": "ipython",
    "version": 3
   },
   "file_extension": ".py",
   "mimetype": "text/x-python",
   "name": "python",
   "nbconvert_exporter": "python",
   "pygments_lexer": "ipython3",
   "version": "3.8.3"
  }
 },
 "nbformat": 4,
 "nbformat_minor": 4
}
